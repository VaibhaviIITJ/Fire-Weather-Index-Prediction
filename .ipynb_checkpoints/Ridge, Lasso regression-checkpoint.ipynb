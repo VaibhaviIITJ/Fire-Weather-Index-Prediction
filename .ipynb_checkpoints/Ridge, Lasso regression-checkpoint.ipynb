{
 "cells": [
  {
   "cell_type": "code",
   "execution_count": null,
   "id": "71a78e66-e7ef-472b-9f93-2769cb144acc",
   "metadata": {},
   "outputs": [],
   "source": []
  }
 ],
 "metadata": {
  "kernelspec": {
   "display_name": "",
   "name": ""
  },
  "language_info": {
   "name": ""
  }
 },
 "nbformat": 4,
 "nbformat_minor": 5
}
